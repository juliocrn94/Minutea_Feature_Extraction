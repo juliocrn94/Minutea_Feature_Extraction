{
 "cells": [
  {
   "cell_type": "code",
   "execution_count": 9,
   "metadata": {},
   "outputs": [],
   "source": [
    "import xml.etree.ElementTree as ET\n",
    "import os\n",
    "import pandas as pd\n"
   ]
  },
  {
   "cell_type": "code",
   "execution_count": 3,
   "metadata": {},
   "outputs": [],
   "source": [
    "mytree = ET.parse('./diff/B101X9I_1_1.mntscore')\n",
    "myroot = mytree.getroot()"
   ]
  },
  {
   "cell_type": "code",
   "execution_count": 12,
   "metadata": {},
   "outputs": [
    {
     "name": "stdout",
     "output_type": "stream",
     "text": [
      "MinutiaeScore\n",
      "{'type': 'diff', 'base_score': '1.5013165170867', 'matcher': 'dmc_bcc'}\n"
     ]
    }
   ],
   "source": [
    "print(myroot.tag)\n",
    "print(myroot.attrib)"
   ]
  },
  {
   "cell_type": "code",
   "execution_count": 14,
   "metadata": {},
   "outputs": [
    {
     "name": "stdout",
     "output_type": "stream",
     "text": [
      "Experiment {'version': 'v0', 'score': '-0.2590366005806499'}\n",
      "Experiment {'version': 'v1', 'score': '-0.1313185104430099'}\n",
      "Experiment {'version': 'v2', 'score': '0.11663080957348004'}\n",
      "Experiment {'version': 'v3', 'score': '0.31230613007141006'}\n",
      "Experiment {'version': 'v4', 'score': '0.2398553015464'}\n",
      "Experiment {'version': 'v5', 'score': '-0.2346228164742099'}\n",
      "Experiment {'version': 'v6', 'score': '-0.18072487819165994'}\n",
      "Experiment {'version': 'v7', 'score': '0.015346832737590077'}\n",
      "Experiment {'version': 'v8', 'score': '-0.27664748352048996'}\n",
      "Experiment {'version': 'v9', 'score': '0.2684571982847601'}\n",
      "Experiment {'version': 'v10', 'score': '-0.2367941482131799'}\n",
      "Experiment {'version': 'v11', 'score': '-0.0721120094393699'}\n",
      "Experiment {'version': 'v12', 'score': '0.07924002652455009'}\n",
      "Experiment {'version': 'v13', 'score': '0.03908028196957991'}\n"
     ]
    }
   ],
   "source": [
    "for child in myroot:\n",
    "    print(child.tag, child.attrib)"
   ]
  },
  {
   "cell_type": "code",
   "execution_count": 19,
   "metadata": {},
   "outputs": [
    {
     "data": {
      "text/plain": [
       "<Element 'MissingMinutia' at 0x7fd5a1b88278>"
      ]
     },
     "execution_count": 19,
     "metadata": {},
     "output_type": "execute_result"
    }
   ],
   "source": [
    "myroot[0][0].tag , myroot[0][0].at\n"
   ]
  },
  {
   "cell_type": "code",
   "execution_count": 1,
   "metadata": {},
   "outputs": [
    {
     "ename": "SyntaxError",
     "evalue": "invalid syntax (<ipython-input-1-7c79ce77310b>, line 1)",
     "output_type": "error",
     "traceback": [
      "\u001b[0;36m  File \u001b[0;32m\"<ipython-input-1-7c79ce77310b>\"\u001b[0;36m, line \u001b[0;32m1\u001b[0m\n\u001b[0;31m    def parse_diff_file(filename)\u001b[0m\n\u001b[0m                                 ^\u001b[0m\n\u001b[0;31mSyntaxError\u001b[0m\u001b[0;31m:\u001b[0m invalid syntax\n"
     ]
    }
   ],
   "source": [
    "def parse_diff_file(filename)\n",
    "    mytree = ET.parse(filename)\n",
    "    myroot = mytree.getroot()\n",
    "    \n",
    "def iterate_dir(directory):\n",
    "    for filename in os.listdir(directory):\n",
    "        parse_diff_file(filename)\n",
    "\n",
    "\n",
    "    \n",
    "\n",
    "        \n",
    "        \n",
    "        \n",
    "directory = './diff/'"
   ]
  },
  {
   "cell_type": "code",
   "execution_count": 31,
   "metadata": {},
   "outputs": [],
   "source": [
    "directory = './diff/'\n",
    "lst = []\n",
    "\n",
    "\n",
    "for filename in os.listdir(directory):\n",
    "    mytree = ET.parse(directory+filename)\n",
    "    myroot = mytree.getroot()\n",
    "    \n",
    "    base_score = myroot.attrib['base_score']\n",
    "    matcher = myroot.attrib['matcher']\n",
    "    \n",
    "    for child in myroot:\n",
    "        \n",
    "        for grandchild in child:\n",
    "            \n",
    "            dic = {}\n",
    "\n",
    "            dic['filename'] = filename.split('.')[0]\n",
    "            dic['base_score'] = base_score\n",
    "            dic['matcher'] = matcher\n",
    "            dic['version'] = child.attrib['version']\n",
    "            dic['score_dif'] = child.attrib['score']\n",
    "            dic['x'] = grandchild.attrib['x']\n",
    "            dic['y'] = grandchild.attrib['y']\n",
    "            dic['angle'] = grandchild.attrib['angle']\n",
    "        \n",
    "            lst.append(dic)"
   ]
  },
  {
   "cell_type": "code",
   "execution_count": 32,
   "metadata": {},
   "outputs": [
    {
     "data": {
      "text/html": [
       "<div>\n",
       "<style scoped>\n",
       "    .dataframe tbody tr th:only-of-type {\n",
       "        vertical-align: middle;\n",
       "    }\n",
       "\n",
       "    .dataframe tbody tr th {\n",
       "        vertical-align: top;\n",
       "    }\n",
       "\n",
       "    .dataframe thead th {\n",
       "        text-align: right;\n",
       "    }\n",
       "</style>\n",
       "<table border=\"1\" class=\"dataframe\">\n",
       "  <thead>\n",
       "    <tr style=\"text-align: right;\">\n",
       "      <th></th>\n",
       "      <th>filename</th>\n",
       "      <th>base_score</th>\n",
       "      <th>matcher</th>\n",
       "      <th>version</th>\n",
       "      <th>score_dif</th>\n",
       "      <th>x</th>\n",
       "      <th>y</th>\n",
       "      <th>angle</th>\n",
       "    </tr>\n",
       "  </thead>\n",
       "  <tbody>\n",
       "    <tr>\n",
       "      <th>0</th>\n",
       "      <td>U294X6I_1_1</td>\n",
       "      <td>2.63500017880548</td>\n",
       "      <td>dmc_bcc</td>\n",
       "      <td>v0</td>\n",
       "      <td>0.2607028053731799</td>\n",
       "      <td>470</td>\n",
       "      <td>366</td>\n",
       "      <td>87.0</td>\n",
       "    </tr>\n",
       "    <tr>\n",
       "      <th>1</th>\n",
       "      <td>U294X6I_1_1</td>\n",
       "      <td>2.63500017880548</td>\n",
       "      <td>dmc_bcc</td>\n",
       "      <td>v1</td>\n",
       "      <td>0.27068280578362014</td>\n",
       "      <td>459</td>\n",
       "      <td>551</td>\n",
       "      <td>351.0</td>\n",
       "    </tr>\n",
       "    <tr>\n",
       "      <th>2</th>\n",
       "      <td>U294X6I_1_1</td>\n",
       "      <td>2.63500017880548</td>\n",
       "      <td>dmc_bcc</td>\n",
       "      <td>v2</td>\n",
       "      <td>0.27008751832756017</td>\n",
       "      <td>407</td>\n",
       "      <td>513</td>\n",
       "      <td>347.0</td>\n",
       "    </tr>\n",
       "    <tr>\n",
       "      <th>3</th>\n",
       "      <td>U294X6I_1_1</td>\n",
       "      <td>2.63500017880548</td>\n",
       "      <td>dmc_bcc</td>\n",
       "      <td>v3</td>\n",
       "      <td>-0.28886579091849995</td>\n",
       "      <td>371</td>\n",
       "      <td>445</td>\n",
       "      <td>342.0</td>\n",
       "    </tr>\n",
       "    <tr>\n",
       "      <th>4</th>\n",
       "      <td>U294X6I_1_1</td>\n",
       "      <td>2.63500017880548</td>\n",
       "      <td>dmc_bcc</td>\n",
       "      <td>v4</td>\n",
       "      <td>0.05245396044001982</td>\n",
       "      <td>318</td>\n",
       "      <td>413</td>\n",
       "      <td>333.0</td>\n",
       "    </tr>\n",
       "    <tr>\n",
       "      <th>...</th>\n",
       "      <td>...</td>\n",
       "      <td>...</td>\n",
       "      <td>...</td>\n",
       "      <td>...</td>\n",
       "      <td>...</td>\n",
       "      <td>...</td>\n",
       "      <td>...</td>\n",
       "      <td>...</td>\n",
       "    </tr>\n",
       "    <tr>\n",
       "      <th>5236</th>\n",
       "      <td>B155X6I_1_1</td>\n",
       "      <td>0.909409488192099</td>\n",
       "      <td>dmc_bcc</td>\n",
       "      <td>v23</td>\n",
       "      <td>-0.02141870193500295</td>\n",
       "      <td>391</td>\n",
       "      <td>263</td>\n",
       "      <td>152.0</td>\n",
       "    </tr>\n",
       "    <tr>\n",
       "      <th>5237</th>\n",
       "      <td>B155X6I_1_1</td>\n",
       "      <td>0.909409488192099</td>\n",
       "      <td>dmc_bcc</td>\n",
       "      <td>v24</td>\n",
       "      <td>-0.19731754200019902</td>\n",
       "      <td>340</td>\n",
       "      <td>207</td>\n",
       "      <td>144.0</td>\n",
       "    </tr>\n",
       "    <tr>\n",
       "      <th>5238</th>\n",
       "      <td>B155X6I_1_1</td>\n",
       "      <td>0.909409488192099</td>\n",
       "      <td>dmc_bcc</td>\n",
       "      <td>v25</td>\n",
       "      <td>-0.07356333690954298</td>\n",
       "      <td>319</td>\n",
       "      <td>296</td>\n",
       "      <td>107.0</td>\n",
       "    </tr>\n",
       "    <tr>\n",
       "      <th>5239</th>\n",
       "      <td>B155X6I_1_1</td>\n",
       "      <td>0.909409488192099</td>\n",
       "      <td>dmc_bcc</td>\n",
       "      <td>v26</td>\n",
       "      <td>-0.235048714420951</td>\n",
       "      <td>338</td>\n",
       "      <td>356</td>\n",
       "      <td>100.0</td>\n",
       "    </tr>\n",
       "    <tr>\n",
       "      <th>5240</th>\n",
       "      <td>B155X6I_1_1</td>\n",
       "      <td>0.909409488192099</td>\n",
       "      <td>dmc_bcc</td>\n",
       "      <td>v27</td>\n",
       "      <td>-0.10459645231721004</td>\n",
       "      <td>279</td>\n",
       "      <td>421</td>\n",
       "      <td>91.0</td>\n",
       "    </tr>\n",
       "  </tbody>\n",
       "</table>\n",
       "<p>5241 rows × 8 columns</p>\n",
       "</div>"
      ],
      "text/plain": [
       "         filename         base_score  matcher version             score_dif  \\\n",
       "0     U294X6I_1_1   2.63500017880548  dmc_bcc      v0    0.2607028053731799   \n",
       "1     U294X6I_1_1   2.63500017880548  dmc_bcc      v1   0.27068280578362014   \n",
       "2     U294X6I_1_1   2.63500017880548  dmc_bcc      v2   0.27008751832756017   \n",
       "3     U294X6I_1_1   2.63500017880548  dmc_bcc      v3  -0.28886579091849995   \n",
       "4     U294X6I_1_1   2.63500017880548  dmc_bcc      v4   0.05245396044001982   \n",
       "...           ...                ...      ...     ...                   ...   \n",
       "5236  B155X6I_1_1  0.909409488192099  dmc_bcc     v23  -0.02141870193500295   \n",
       "5237  B155X6I_1_1  0.909409488192099  dmc_bcc     v24  -0.19731754200019902   \n",
       "5238  B155X6I_1_1  0.909409488192099  dmc_bcc     v25  -0.07356333690954298   \n",
       "5239  B155X6I_1_1  0.909409488192099  dmc_bcc     v26    -0.235048714420951   \n",
       "5240  B155X6I_1_1  0.909409488192099  dmc_bcc     v27  -0.10459645231721004   \n",
       "\n",
       "        x    y  angle  \n",
       "0     470  366   87.0  \n",
       "1     459  551  351.0  \n",
       "2     407  513  347.0  \n",
       "3     371  445  342.0  \n",
       "4     318  413  333.0  \n",
       "...   ...  ...    ...  \n",
       "5236  391  263  152.0  \n",
       "5237  340  207  144.0  \n",
       "5238  319  296  107.0  \n",
       "5239  338  356  100.0  \n",
       "5240  279  421   91.0  \n",
       "\n",
       "[5241 rows x 8 columns]"
      ]
     },
     "execution_count": 32,
     "metadata": {},
     "output_type": "execute_result"
    }
   ],
   "source": [
    "data = pd.DataFrame(lst)\n",
    "data"
   ]
  },
  {
   "cell_type": "code",
   "execution_count": 34,
   "metadata": {},
   "outputs": [],
   "source": [
    "data.to_csv('minutiae.csv')"
   ]
  },
  {
   "cell_type": "code",
   "execution_count": null,
   "metadata": {},
   "outputs": [],
   "source": []
  }
 ],
 "metadata": {
  "kernelspec": {
   "display_name": "Python 3",
   "language": "python",
   "name": "python3"
  },
  "language_info": {
   "codemirror_mode": {
    "name": "ipython",
    "version": 3
   },
   "file_extension": ".py",
   "mimetype": "text/x-python",
   "name": "python",
   "nbconvert_exporter": "python",
   "pygments_lexer": "ipython3",
   "version": "3.7.3"
  }
 },
 "nbformat": 4,
 "nbformat_minor": 2
}
