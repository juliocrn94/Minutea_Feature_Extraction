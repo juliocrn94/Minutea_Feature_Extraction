{
 "cells": [
  {
   "cell_type": "code",
   "execution_count": 2,
   "metadata": {},
   "outputs": [],
   "source": [
    "import xml.etree.ElementTree as ET\n"
   ]
  },
  {
   "cell_type": "code",
   "execution_count": 3,
   "metadata": {},
   "outputs": [],
   "source": [
    "mytree = ET.parse('./diff/B101X9I_1_1.mntscore')\n",
    "myroot = mytree.getroot()"
   ]
  },
  {
   "cell_type": "code",
   "execution_count": 12,
   "metadata": {},
   "outputs": [
    {
     "name": "stdout",
     "output_type": "stream",
     "text": [
      "MinutiaeScore\n",
      "{'type': 'diff', 'base_score': '1.5013165170867', 'matcher': 'dmc_bcc'}\n"
     ]
    }
   ],
   "source": [
    "print(myroot.tag)\n",
    "print(myroot.attrib)"
   ]
  },
  {
   "cell_type": "code",
   "execution_count": 14,
   "metadata": {},
   "outputs": [
    {
     "name": "stdout",
     "output_type": "stream",
     "text": [
      "Experiment {'version': 'v0', 'score': '-0.2590366005806499'}\n",
      "Experiment {'version': 'v1', 'score': '-0.1313185104430099'}\n",
      "Experiment {'version': 'v2', 'score': '0.11663080957348004'}\n",
      "Experiment {'version': 'v3', 'score': '0.31230613007141006'}\n",
      "Experiment {'version': 'v4', 'score': '0.2398553015464'}\n",
      "Experiment {'version': 'v5', 'score': '-0.2346228164742099'}\n",
      "Experiment {'version': 'v6', 'score': '-0.18072487819165994'}\n",
      "Experiment {'version': 'v7', 'score': '0.015346832737590077'}\n",
      "Experiment {'version': 'v8', 'score': '-0.27664748352048996'}\n",
      "Experiment {'version': 'v9', 'score': '0.2684571982847601'}\n",
      "Experiment {'version': 'v10', 'score': '-0.2367941482131799'}\n",
      "Experiment {'version': 'v11', 'score': '-0.0721120094393699'}\n",
      "Experiment {'version': 'v12', 'score': '0.07924002652455009'}\n",
      "Experiment {'version': 'v13', 'score': '0.03908028196957991'}\n"
     ]
    }
   ],
   "source": [
    "for child in myroot:\n",
    "    print(child.tag, child.attrib)"
   ]
  },
  {
   "cell_type": "code",
   "execution_count": 19,
   "metadata": {},
   "outputs": [
    {
     "data": {
      "text/plain": [
       "<Element 'MissingMinutia' at 0x7fd5a1b88278>"
      ]
     },
     "execution_count": 19,
     "metadata": {},
     "output_type": "execute_result"
    }
   ],
   "source": [
    "myroot[0][0].tag , myroot[0][0].at\n"
   ]
  },
  {
   "cell_type": "code",
   "execution_count": null,
   "metadata": {},
   "outputs": [],
   "source": []
  }
 ],
 "metadata": {
  "kernelspec": {
   "display_name": "Python 3",
   "language": "python",
   "name": "python3"
  },
  "language_info": {
   "codemirror_mode": {
    "name": "ipython",
    "version": 3
   },
   "file_extension": ".py",
   "mimetype": "text/x-python",
   "name": "python",
   "nbconvert_exporter": "python",
   "pygments_lexer": "ipython3",
   "version": "3.7.3"
  }
 },
 "nbformat": 4,
 "nbformat_minor": 2
}
